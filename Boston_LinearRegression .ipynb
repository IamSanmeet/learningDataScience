{
 "cells": [
  {
   "cell_type": "code",
   "execution_count": 1,
   "id": "44d64a17",
   "metadata": {},
   "outputs": [],
   "source": [
    "from sklearn.datasets import load_boston\n",
    "import numpy as np\n",
    "import pandas as pd\n",
    "\n",
    "import matplotlib.pyplot as plt\n",
    "import warnings\n",
    "msg = \"This is a future warning message.\"\n",
    "from sklearn import metrics\n",
    "#warnings.warn(msg, category=FutureWarning)"
   ]
  },
  {
   "cell_type": "code",
   "execution_count": 2,
   "id": "9baf61d7",
   "metadata": {
    "scrolled": true
   },
   "outputs": [
    {
     "name": "stderr",
     "output_type": "stream",
     "text": [
      "/Library/Frameworks/Python.framework/Versions/3.10/lib/python3.10/site-packages/sklearn/utils/deprecation.py:87: FutureWarning: Function load_boston is deprecated; `load_boston` is deprecated in 1.0 and will be removed in 1.2.\n",
      "\n",
      "    The Boston housing prices dataset has an ethical problem. You can refer to\n",
      "    the documentation of this function for further details.\n",
      "\n",
      "    The scikit-learn maintainers therefore strongly discourage the use of this\n",
      "    dataset unless the purpose of the code is to study and educate about\n",
      "    ethical issues in data science and machine learning.\n",
      "\n",
      "    In this special case, you can fetch the dataset from the original\n",
      "    source::\n",
      "\n",
      "        import pandas as pd\n",
      "        import numpy as np\n",
      "\n",
      "\n",
      "        data_url = \"http://lib.stat.cmu.edu/datasets/boston\"\n",
      "        raw_df = pd.read_csv(data_url, sep=\"\\s+\", skiprows=22, header=None)\n",
      "        data = np.hstack([raw_df.values[::2, :], raw_df.values[1::2, :2]])\n",
      "        target = raw_df.values[1::2, 2]\n",
      "\n",
      "    Alternative datasets include the California housing dataset (i.e.\n",
      "    :func:`~sklearn.datasets.fetch_california_housing`) and the Ames housing\n",
      "    dataset. You can load the datasets as follows::\n",
      "\n",
      "        from sklearn.datasets import fetch_california_housing\n",
      "        housing = fetch_california_housing()\n",
      "\n",
      "    for the California housing dataset and::\n",
      "\n",
      "        from sklearn.datasets import fetch_openml\n",
      "        housing = fetch_openml(name=\"house_prices\", as_frame=True)\n",
      "\n",
      "    for the Ames housing dataset.\n",
      "    \n",
      "  warnings.warn(msg, category=FutureWarning)\n"
     ]
    }
   ],
   "source": [
    "raw_data= load_boston()"
   ]
  },
  {
   "cell_type": "code",
   "execution_count": 3,
   "id": "d2ccdbd9",
   "metadata": {},
   "outputs": [
    {
     "name": "stdout",
     "output_type": "stream",
     "text": [
      ".. _boston_dataset:\n",
      "\n",
      "Boston house prices dataset\n",
      "---------------------------\n",
      "\n",
      "**Data Set Characteristics:**  \n",
      "\n",
      "    :Number of Instances: 506 \n",
      "\n",
      "    :Number of Attributes: 13 numeric/categorical predictive. Median Value (attribute 14) is usually the target.\n",
      "\n",
      "    :Attribute Information (in order):\n",
      "        - CRIM     per capita crime rate by town\n",
      "        - ZN       proportion of residential land zoned for lots over 25,000 sq.ft.\n",
      "        - INDUS    proportion of non-retail business acres per town\n",
      "        - CHAS     Charles River dummy variable (= 1 if tract bounds river; 0 otherwise)\n",
      "        - NOX      nitric oxides concentration (parts per 10 million)\n",
      "        - RM       average number of rooms per dwelling\n",
      "        - AGE      proportion of owner-occupied units built prior to 1940\n",
      "        - DIS      weighted distances to five Boston employment centres\n",
      "        - RAD      index of accessibility to radial highways\n",
      "        - TAX      full-value property-tax rate per $10,000\n",
      "        - PTRATIO  pupil-teacher ratio by town\n",
      "        - B        1000(Bk - 0.63)^2 where Bk is the proportion of black people by town\n",
      "        - LSTAT    % lower status of the population\n",
      "        - MEDV     Median value of owner-occupied homes in $1000's\n",
      "\n",
      "    :Missing Attribute Values: None\n",
      "\n",
      "    :Creator: Harrison, D. and Rubinfeld, D.L.\n",
      "\n",
      "This is a copy of UCI ML housing dataset.\n",
      "https://archive.ics.uci.edu/ml/machine-learning-databases/housing/\n",
      "\n",
      "\n",
      "This dataset was taken from the StatLib library which is maintained at Carnegie Mellon University.\n",
      "\n",
      "The Boston house-price data of Harrison, D. and Rubinfeld, D.L. 'Hedonic\n",
      "prices and the demand for clean air', J. Environ. Economics & Management,\n",
      "vol.5, 81-102, 1978.   Used in Belsley, Kuh & Welsch, 'Regression diagnostics\n",
      "...', Wiley, 1980.   N.B. Various transformations are used in the table on\n",
      "pages 244-261 of the latter.\n",
      "\n",
      "The Boston house-price data has been used in many machine learning papers that address regression\n",
      "problems.   \n",
      "     \n",
      ".. topic:: References\n",
      "\n",
      "   - Belsley, Kuh & Welsch, 'Regression diagnostics: Identifying Influential Data and Sources of Collinearity', Wiley, 1980. 244-261.\n",
      "   - Quinlan,R. (1993). Combining Instance-Based and Model-Based Learning. In Proceedings on the Tenth International Conference of Machine Learning, 236-243, University of Massachusetts, Amherst. Morgan Kaufmann.\n",
      "\n"
     ]
    }
   ],
   "source": [
    "print(raw_data.DESCR)"
   ]
  },
  {
   "cell_type": "code",
   "execution_count": 4,
   "id": "3b5a78c6",
   "metadata": {},
   "outputs": [],
   "source": [
    "boston = pd.DataFrame(raw_data.data,columns= raw_data.feature_names)\n",
    "dataset=pd.DataFrame(np.c_[boston['CHAS'],boston['CRIM'] , boston['NOX'] , boston['INDUS']] , columns=['CHAS','CRIM','NOX','INDUS'])"
   ]
  },
  {
   "cell_type": "code",
   "execution_count": 5,
   "id": "f94981a1",
   "metadata": {},
   "outputs": [
    {
     "data": {
      "text/html": [
       "<div>\n",
       "<style scoped>\n",
       "    .dataframe tbody tr th:only-of-type {\n",
       "        vertical-align: middle;\n",
       "    }\n",
       "\n",
       "    .dataframe tbody tr th {\n",
       "        vertical-align: top;\n",
       "    }\n",
       "\n",
       "    .dataframe thead th {\n",
       "        text-align: right;\n",
       "    }\n",
       "</style>\n",
       "<table border=\"1\" class=\"dataframe\">\n",
       "  <thead>\n",
       "    <tr style=\"text-align: right;\">\n",
       "      <th></th>\n",
       "      <th>CHAS</th>\n",
       "      <th>CRIM</th>\n",
       "      <th>NOX</th>\n",
       "      <th>INDUS</th>\n",
       "    </tr>\n",
       "  </thead>\n",
       "  <tbody>\n",
       "    <tr>\n",
       "      <th>0</th>\n",
       "      <td>0.0</td>\n",
       "      <td>0.00632</td>\n",
       "      <td>0.538</td>\n",
       "      <td>2.31</td>\n",
       "    </tr>\n",
       "    <tr>\n",
       "      <th>1</th>\n",
       "      <td>0.0</td>\n",
       "      <td>0.02731</td>\n",
       "      <td>0.469</td>\n",
       "      <td>7.07</td>\n",
       "    </tr>\n",
       "    <tr>\n",
       "      <th>2</th>\n",
       "      <td>0.0</td>\n",
       "      <td>0.02729</td>\n",
       "      <td>0.469</td>\n",
       "      <td>7.07</td>\n",
       "    </tr>\n",
       "    <tr>\n",
       "      <th>3</th>\n",
       "      <td>0.0</td>\n",
       "      <td>0.03237</td>\n",
       "      <td>0.458</td>\n",
       "      <td>2.18</td>\n",
       "    </tr>\n",
       "    <tr>\n",
       "      <th>4</th>\n",
       "      <td>0.0</td>\n",
       "      <td>0.06905</td>\n",
       "      <td>0.458</td>\n",
       "      <td>2.18</td>\n",
       "    </tr>\n",
       "    <tr>\n",
       "      <th>...</th>\n",
       "      <td>...</td>\n",
       "      <td>...</td>\n",
       "      <td>...</td>\n",
       "      <td>...</td>\n",
       "    </tr>\n",
       "    <tr>\n",
       "      <th>501</th>\n",
       "      <td>0.0</td>\n",
       "      <td>0.06263</td>\n",
       "      <td>0.573</td>\n",
       "      <td>11.93</td>\n",
       "    </tr>\n",
       "    <tr>\n",
       "      <th>502</th>\n",
       "      <td>0.0</td>\n",
       "      <td>0.04527</td>\n",
       "      <td>0.573</td>\n",
       "      <td>11.93</td>\n",
       "    </tr>\n",
       "    <tr>\n",
       "      <th>503</th>\n",
       "      <td>0.0</td>\n",
       "      <td>0.06076</td>\n",
       "      <td>0.573</td>\n",
       "      <td>11.93</td>\n",
       "    </tr>\n",
       "    <tr>\n",
       "      <th>504</th>\n",
       "      <td>0.0</td>\n",
       "      <td>0.10959</td>\n",
       "      <td>0.573</td>\n",
       "      <td>11.93</td>\n",
       "    </tr>\n",
       "    <tr>\n",
       "      <th>505</th>\n",
       "      <td>0.0</td>\n",
       "      <td>0.04741</td>\n",
       "      <td>0.573</td>\n",
       "      <td>11.93</td>\n",
       "    </tr>\n",
       "  </tbody>\n",
       "</table>\n",
       "<p>506 rows × 4 columns</p>\n",
       "</div>"
      ],
      "text/plain": [
       "     CHAS     CRIM    NOX  INDUS\n",
       "0     0.0  0.00632  0.538   2.31\n",
       "1     0.0  0.02731  0.469   7.07\n",
       "2     0.0  0.02729  0.469   7.07\n",
       "3     0.0  0.03237  0.458   2.18\n",
       "4     0.0  0.06905  0.458   2.18\n",
       "..    ...      ...    ...    ...\n",
       "501   0.0  0.06263  0.573  11.93\n",
       "502   0.0  0.04527  0.573  11.93\n",
       "503   0.0  0.06076  0.573  11.93\n",
       "504   0.0  0.10959  0.573  11.93\n",
       "505   0.0  0.04741  0.573  11.93\n",
       "\n",
       "[506 rows x 4 columns]"
      ]
     },
     "execution_count": 5,
     "metadata": {},
     "output_type": "execute_result"
    }
   ],
   "source": [
    "dataset"
   ]
  },
  {
   "cell_type": "code",
   "execution_count": 6,
   "id": "43be9430",
   "metadata": {},
   "outputs": [
    {
     "data": {
      "text/html": [
       "<div>\n",
       "<style scoped>\n",
       "    .dataframe tbody tr th:only-of-type {\n",
       "        vertical-align: middle;\n",
       "    }\n",
       "\n",
       "    .dataframe tbody tr th {\n",
       "        vertical-align: top;\n",
       "    }\n",
       "\n",
       "    .dataframe thead th {\n",
       "        text-align: right;\n",
       "    }\n",
       "</style>\n",
       "<table border=\"1\" class=\"dataframe\">\n",
       "  <thead>\n",
       "    <tr style=\"text-align: right;\">\n",
       "      <th></th>\n",
       "      <th>CRIM</th>\n",
       "      <th>ZN</th>\n",
       "      <th>INDUS</th>\n",
       "      <th>CHAS</th>\n",
       "      <th>NOX</th>\n",
       "      <th>RM</th>\n",
       "      <th>AGE</th>\n",
       "      <th>DIS</th>\n",
       "      <th>RAD</th>\n",
       "      <th>TAX</th>\n",
       "      <th>PTRATIO</th>\n",
       "      <th>B</th>\n",
       "      <th>LSTAT</th>\n",
       "    </tr>\n",
       "  </thead>\n",
       "  <tbody>\n",
       "    <tr>\n",
       "      <th>count</th>\n",
       "      <td>506.000000</td>\n",
       "      <td>506.000000</td>\n",
       "      <td>506.000000</td>\n",
       "      <td>506.000000</td>\n",
       "      <td>506.000000</td>\n",
       "      <td>506.000000</td>\n",
       "      <td>506.000000</td>\n",
       "      <td>506.000000</td>\n",
       "      <td>506.000000</td>\n",
       "      <td>506.000000</td>\n",
       "      <td>506.000000</td>\n",
       "      <td>506.000000</td>\n",
       "      <td>506.000000</td>\n",
       "    </tr>\n",
       "    <tr>\n",
       "      <th>mean</th>\n",
       "      <td>3.613524</td>\n",
       "      <td>11.363636</td>\n",
       "      <td>11.136779</td>\n",
       "      <td>0.069170</td>\n",
       "      <td>0.554695</td>\n",
       "      <td>6.284634</td>\n",
       "      <td>68.574901</td>\n",
       "      <td>3.795043</td>\n",
       "      <td>9.549407</td>\n",
       "      <td>408.237154</td>\n",
       "      <td>18.455534</td>\n",
       "      <td>356.674032</td>\n",
       "      <td>12.653063</td>\n",
       "    </tr>\n",
       "    <tr>\n",
       "      <th>std</th>\n",
       "      <td>8.601545</td>\n",
       "      <td>23.322453</td>\n",
       "      <td>6.860353</td>\n",
       "      <td>0.253994</td>\n",
       "      <td>0.115878</td>\n",
       "      <td>0.702617</td>\n",
       "      <td>28.148861</td>\n",
       "      <td>2.105710</td>\n",
       "      <td>8.707259</td>\n",
       "      <td>168.537116</td>\n",
       "      <td>2.164946</td>\n",
       "      <td>91.294864</td>\n",
       "      <td>7.141062</td>\n",
       "    </tr>\n",
       "    <tr>\n",
       "      <th>min</th>\n",
       "      <td>0.006320</td>\n",
       "      <td>0.000000</td>\n",
       "      <td>0.460000</td>\n",
       "      <td>0.000000</td>\n",
       "      <td>0.385000</td>\n",
       "      <td>3.561000</td>\n",
       "      <td>2.900000</td>\n",
       "      <td>1.129600</td>\n",
       "      <td>1.000000</td>\n",
       "      <td>187.000000</td>\n",
       "      <td>12.600000</td>\n",
       "      <td>0.320000</td>\n",
       "      <td>1.730000</td>\n",
       "    </tr>\n",
       "    <tr>\n",
       "      <th>25%</th>\n",
       "      <td>0.082045</td>\n",
       "      <td>0.000000</td>\n",
       "      <td>5.190000</td>\n",
       "      <td>0.000000</td>\n",
       "      <td>0.449000</td>\n",
       "      <td>5.885500</td>\n",
       "      <td>45.025000</td>\n",
       "      <td>2.100175</td>\n",
       "      <td>4.000000</td>\n",
       "      <td>279.000000</td>\n",
       "      <td>17.400000</td>\n",
       "      <td>375.377500</td>\n",
       "      <td>6.950000</td>\n",
       "    </tr>\n",
       "    <tr>\n",
       "      <th>50%</th>\n",
       "      <td>0.256510</td>\n",
       "      <td>0.000000</td>\n",
       "      <td>9.690000</td>\n",
       "      <td>0.000000</td>\n",
       "      <td>0.538000</td>\n",
       "      <td>6.208500</td>\n",
       "      <td>77.500000</td>\n",
       "      <td>3.207450</td>\n",
       "      <td>5.000000</td>\n",
       "      <td>330.000000</td>\n",
       "      <td>19.050000</td>\n",
       "      <td>391.440000</td>\n",
       "      <td>11.360000</td>\n",
       "    </tr>\n",
       "    <tr>\n",
       "      <th>75%</th>\n",
       "      <td>3.677083</td>\n",
       "      <td>12.500000</td>\n",
       "      <td>18.100000</td>\n",
       "      <td>0.000000</td>\n",
       "      <td>0.624000</td>\n",
       "      <td>6.623500</td>\n",
       "      <td>94.075000</td>\n",
       "      <td>5.188425</td>\n",
       "      <td>24.000000</td>\n",
       "      <td>666.000000</td>\n",
       "      <td>20.200000</td>\n",
       "      <td>396.225000</td>\n",
       "      <td>16.955000</td>\n",
       "    </tr>\n",
       "    <tr>\n",
       "      <th>max</th>\n",
       "      <td>88.976200</td>\n",
       "      <td>100.000000</td>\n",
       "      <td>27.740000</td>\n",
       "      <td>1.000000</td>\n",
       "      <td>0.871000</td>\n",
       "      <td>8.780000</td>\n",
       "      <td>100.000000</td>\n",
       "      <td>12.126500</td>\n",
       "      <td>24.000000</td>\n",
       "      <td>711.000000</td>\n",
       "      <td>22.000000</td>\n",
       "      <td>396.900000</td>\n",
       "      <td>37.970000</td>\n",
       "    </tr>\n",
       "  </tbody>\n",
       "</table>\n",
       "</div>"
      ],
      "text/plain": [
       "             CRIM          ZN       INDUS        CHAS         NOX          RM  \\\n",
       "count  506.000000  506.000000  506.000000  506.000000  506.000000  506.000000   \n",
       "mean     3.613524   11.363636   11.136779    0.069170    0.554695    6.284634   \n",
       "std      8.601545   23.322453    6.860353    0.253994    0.115878    0.702617   \n",
       "min      0.006320    0.000000    0.460000    0.000000    0.385000    3.561000   \n",
       "25%      0.082045    0.000000    5.190000    0.000000    0.449000    5.885500   \n",
       "50%      0.256510    0.000000    9.690000    0.000000    0.538000    6.208500   \n",
       "75%      3.677083   12.500000   18.100000    0.000000    0.624000    6.623500   \n",
       "max     88.976200  100.000000   27.740000    1.000000    0.871000    8.780000   \n",
       "\n",
       "              AGE         DIS         RAD         TAX     PTRATIO           B  \\\n",
       "count  506.000000  506.000000  506.000000  506.000000  506.000000  506.000000   \n",
       "mean    68.574901    3.795043    9.549407  408.237154   18.455534  356.674032   \n",
       "std     28.148861    2.105710    8.707259  168.537116    2.164946   91.294864   \n",
       "min      2.900000    1.129600    1.000000  187.000000   12.600000    0.320000   \n",
       "25%     45.025000    2.100175    4.000000  279.000000   17.400000  375.377500   \n",
       "50%     77.500000    3.207450    5.000000  330.000000   19.050000  391.440000   \n",
       "75%     94.075000    5.188425   24.000000  666.000000   20.200000  396.225000   \n",
       "max    100.000000   12.126500   24.000000  711.000000   22.000000  396.900000   \n",
       "\n",
       "            LSTAT  \n",
       "count  506.000000  \n",
       "mean    12.653063  \n",
       "std      7.141062  \n",
       "min      1.730000  \n",
       "25%      6.950000  \n",
       "50%     11.360000  \n",
       "75%     16.955000  \n",
       "max     37.970000  "
      ]
     },
     "execution_count": 6,
     "metadata": {},
     "output_type": "execute_result"
    }
   ],
   "source": [
    "boston.describe()"
   ]
  },
  {
   "cell_type": "code",
   "execution_count": 7,
   "id": "68049424",
   "metadata": {},
   "outputs": [],
   "source": [
    "X= dataset[:-100]\n",
    "Y=raw_data.target[:-100]\n",
    "X_test= dataset[-100:]\n",
    "Y_test=raw_data.target[-100:]\n"
   ]
  },
  {
   "cell_type": "code",
   "execution_count": 8,
   "id": "3c80451e",
   "metadata": {},
   "outputs": [
    {
     "name": "stdout",
     "output_type": "stream",
     "text": [
      "(406, 4) (406,) (100, 4) (100,)\n"
     ]
    }
   ],
   "source": [
    "print(X.shape,Y.shape,X_test.shape,Y_test.shape)"
   ]
  },
  {
   "cell_type": "code",
   "execution_count": 9,
   "id": "595d6ffb",
   "metadata": {},
   "outputs": [],
   "source": [
    "u=np.mean(dataset,axis=0)\n",
    "std = np.std(dataset,axis=0)"
   ]
  },
  {
   "cell_type": "code",
   "execution_count": 10,
   "id": "759f2520",
   "metadata": {},
   "outputs": [
    {
     "name": "stdout",
     "output_type": "stream",
     "text": [
      "CHAS      0.069170\n",
      "CRIM      3.613524\n",
      "NOX       0.554695\n",
      "INDUS    11.136779\n",
      "dtype: float64 CHAS     0.253743\n",
      "CRIM     8.593041\n",
      "NOX      0.115763\n",
      "INDUS    6.853571\n",
      "dtype: float64\n"
     ]
    }
   ],
   "source": [
    "print(u,std)"
   ]
  },
  {
   "cell_type": "code",
   "execution_count": 11,
   "id": "10ac2f9c",
   "metadata": {},
   "outputs": [],
   "source": [
    "X=(X-u)/std\n",
    "\n",
    "X_test = (X_test-u)/std"
   ]
  },
  {
   "cell_type": "code",
   "execution_count": 12,
   "id": "3712c7c9",
   "metadata": {},
   "outputs": [
    {
     "data": {
      "image/png": "[encoded data removed]",
      "text/plain": [
       "<Figure size 640x480 with 1 Axes>"
      ]
     },
     "metadata": {},
     "output_type": "display_data"
    }
   ],
   "source": [
    "plt.scatter(X.iloc[:,3],Y)\n",
    "plt.show()"
   ]
  },
  {
   "cell_type": "code",
   "execution_count": 13,
   "id": "c5b46c52",
   "metadata": {},
   "outputs": [],
   "source": [
    "ones= np.ones((X.shape[0],1))"
   ]
  },
  {
   "cell_type": "code",
   "execution_count": 14,
   "id": "4ab55721",
   "metadata": {},
   "outputs": [],
   "source": [
    "X = np.hstack((ones,X))"
   ]
  },
  {
   "cell_type": "code",
   "execution_count": 15,
   "id": "11c6320a",
   "metadata": {},
   "outputs": [],
   "source": [
    "def hypothesis(X,theta):\n",
    "    y_=0\n",
    "    \n",
    "    n=X.shape[0]\n",
    "    for i in range(n):\n",
    "        y_+=theta[i]*X[i]\n",
    "    return y_"
   ]
  },
  {
   "cell_type": "code",
   "execution_count": 16,
   "id": "d33f75a0",
   "metadata": {},
   "outputs": [],
   "source": [
    "def cost (X,Y,theta):\n",
    "    m=X.shape[0]\n",
    "    total_loss= 0\n",
    "    for i in range(m):\n",
    "        y_p= hypothesis(X[i],theta)\n",
    "        y_gt = Y[i]\n",
    "        total_loss+=(y_p-y_gt)**2\n",
    "    return total_loss/m"
   ]
  },
  {
   "cell_type": "code",
   "execution_count": 17,
   "id": "5ff810d5",
   "metadata": {},
   "outputs": [],
   "source": [
    "def gradient(X, Y, theta):\n",
    "    m, n = X.shape\n",
    "    grad = np.zeros((n,))\n",
    "    for j in range(n):\n",
    "        for i in range(m):\n",
    "            y_p = hypothesis(X[i], theta)\n",
    "            y_gt = Y[i]\n",
    "            grad[j] += (y_p - y_gt) * X[i][j]\n",
    "    return grad / m"
   ]
  },
  {
   "cell_type": "code",
   "execution_count": 18,
   "id": "54920e42",
   "metadata": {},
   "outputs": [
    {
     "name": "stdout",
     "output_type": "stream",
     "text": [
      "(100, 4) [[ 1.         -0.27259857 -0.41978194 -0.14421743 -1.2879095 ]\n",
      " [ 1.         -0.27259857 -0.41733926 -0.74026221 -0.59338101]\n",
      " [ 1.         -0.27259857 -0.41734159 -0.74026221 -0.59338101]\n",
      " ...\n",
      " [ 1.         -0.27259857  2.46573659  1.19472373  1.01599907]\n",
      " [ 1.         -0.27259857  4.41236983  1.19472373  1.01599907]\n",
      " [ 1.         -0.27259857  7.48364564  1.19472373  1.01599907]]\n"
     ]
    }
   ],
   "source": [
    "print (X_test.shape, X)"
   ]
  },
  {
   "cell_type": "code",
   "execution_count": 19,
   "id": "56d1696c",
   "metadata": {},
   "outputs": [],
   "source": [
    "def gradient_descent(X, Y, learning_rate=0.01, epochs=100):\n",
    "    m, n = X.shape\n",
    "    theta = np.zeros((n,))\n",
    "    cost_epoch = []\n",
    "\n",
    "    for epoch in range(epochs):\n",
    "        loss = cost(X, Y, theta)\n",
    "        grad = gradient(X, Y, theta)\n",
    "        cost_epoch.append(loss)\n",
    "        \n",
    "        for j in range(n):\n",
    "            theta[j] = theta[j] - learning_rate * grad[j]\n",
    "\n",
    "    return theta, cost_epoch"
   ]
  },
  {
   "cell_type": "code",
   "execution_count": 20,
   "id": "3a2e0aae",
   "metadata": {},
   "outputs": [],
   "source": [
    "theta ,cost_epoch = gradient_descent(X,Y,learning_rate=0.03,epochs=1000)"
   ]
  },
  {
   "cell_type": "code",
   "execution_count": 21,
   "id": "76a63ba5",
   "metadata": {},
   "outputs": [
    {
     "data": {
      "text/plain": [
       "[66.7407403272206,\n",
       " 66.74074032471316,\n",
       " 66.74074032224037,\n",
       " 66.74074031980179,\n",
       " 66.74074031739676,\n",
       " 66.74074031502509,\n",
       " 66.7407403126861,\n",
       " 66.74074031037945,\n",
       " 66.74074030810469,\n",
       " 66.74074030586132]"
      ]
     },
     "execution_count": 21,
     "metadata": {},
     "output_type": "execute_result"
    }
   ],
   "source": [
    "cost_epoch[-10:]"
   ]
  },
  {
   "cell_type": "code",
   "execution_count": 22,
   "id": "568e739b",
   "metadata": {},
   "outputs": [
    {
     "data": {
      "text/plain": [
       "[<matplotlib.lines.Line2D at 0x16ba360e0>]"
      ]
     },
     "execution_count": 22,
     "metadata": {},
     "output_type": "execute_result"
    },
    {
     "data": {
      "image/png": "[encoded data removed]",
      "text/plain": [
       "<Figure size 640x480 with 1 Axes>"
      ]
     },
     "metadata": {},
     "output_type": "display_data"
    }
   ],
   "source": [
    "plt.plot(cost_epoch)"
   ]
  },
  {
   "cell_type": "code",
   "execution_count": 23,
   "id": "ad3cd307",
   "metadata": {},
   "outputs": [],
   "source": [
    "def r2_score (y_t,y_p):\n",
    "    num = np.sum((y_t-y_p)**2)\n",
    "    den = np.sum((y_t-y_t.mean())**2)\n",
    "    score = (1-num/den)\n",
    "    \n",
    "    return score"
   ]
  },
  {
   "cell_type": "code",
   "execution_count": 24,
   "id": "932951fa",
   "metadata": {},
   "outputs": [
    {
     "data": {
      "text/plain": [
       "<function __main__.r2_score(y_t, y_p)>"
      ]
     },
     "execution_count": 24,
     "metadata": {},
     "output_type": "execute_result"
    }
   ],
   "source": [
    "r2_score"
   ]
  },
  {
   "cell_type": "code",
   "execution_count": 25,
   "id": "4ba47b50",
   "metadata": {},
   "outputs": [
    {
     "name": "stdout",
     "output_type": "stream",
     "text": [
      "[[ 1.         -0.27259857  1.99029374  0.90102051  1.01599907]\n",
      " [ 1.         -0.27259857  0.97027072  0.90102051  1.01599907]\n",
      " [ 1.         -0.27259857  0.4410972   0.36544404  1.01599907]\n",
      " [ 1.         -0.27259857  1.25971423  0.36544404  1.01599907]]\n"
     ]
    }
   ],
   "source": [
    "ones = np.ones((X_test.shape[0],1))\n",
    "X_test = np.hstack((ones, X_test))\n",
    "print(X_test [:4,:])"
   ]
  },
  {
   "cell_type": "code",
   "execution_count": 26,
   "id": "efafb2f7",
   "metadata": {},
   "outputs": [],
   "source": [
    "y_pred_test=[]\n",
    "for i in range(X_test.shape[0]):\n",
    "    pred = hypothesis(X_test[i],theta)\n",
    "    y_pred_test.append(pred)\n",
    "y_pred_test = np.array(y_pred_test)"
   ]
  },
  {
   "cell_type": "code",
   "execution_count": 27,
   "id": "58c5913d",
   "metadata": {
    "scrolled": true
   },
   "outputs": [
    {
     "name": "stdout",
     "output_type": "stream",
     "text": [
      "14.771425619047305 11.9\n",
      "16.8256615522445 27.9\n",
      "18.12534845162915 17.2\n",
      "16.476726326286407 27.5\n",
      "7.876103040926964 15.0\n",
      "16.567566344963573 17.2\n",
      "15.451916858614462 17.9\n",
      "13.144636631904012 16.3\n",
      "8.776973065454614 7.0\n",
      "15.312704654547057 7.2\n",
      "17.011947356861118 7.5\n",
      "13.47153028218426 10.4\n",
      "2.3172618897391417 8.8\n",
      "16.635534667746477 8.4\n",
      "16.805426126825626 16.7\n",
      "17.758076839723287 14.2\n",
      "16.97272765626019 20.8\n",
      "18.144034231452064 13.4\n",
      "17.849055382011066 11.7\n",
      "15.834003554298404 8.3\n",
      "17.039304268153728 10.2\n",
      "10.72446343254372 10.9\n",
      "17.824513198851356 11.0\n",
      "17.362396243156663 9.5\n",
      "17.919362650336566 14.5\n",
      "17.551369172198466 14.1\n",
      "18.39936168401131 16.1\n",
      "18.114788432786476 14.3\n",
      "16.161978802176787 11.7\n",
      "16.705292885717085 13.4\n",
      "15.941168022726798 9.6\n",
      "15.763894054389832 8.7\n",
      "16.11523118545005 8.4\n",
      "17.120065692358697 12.8\n",
      "14.152889915109709 10.5\n",
      "17.041893122106455 17.1\n",
      "17.992903277391267 18.4\n",
      "16.985092330242168 15.4\n",
      "16.320488379354753 10.8\n",
      "16.819803807093926 11.8\n",
      "17.847198324832974 14.9\n",
      "16.994863022653547 12.6\n",
      "17.23638232648515 14.1\n",
      "17.658961843710188 13.0\n",
      "17.84839703126583 13.4\n",
      "18.147583179467322 15.2\n",
      "18.229838394521824 16.1\n",
      "17.489731294983645 17.8\n",
      "17.19313254050299 14.9\n",
      "18.309007017610437 14.1\n",
      "18.32858590089292 12.7\n",
      "17.50086599386742 13.5\n",
      "17.605943708970383 14.9\n",
      "17.82883924086694 20.0\n",
      "18.295001342904175 16.4\n",
      "18.557260882894173 17.7\n",
      "17.863115176706817 19.5\n",
      "18.05852199397323 20.2\n",
      "17.80441578288079 21.4\n",
      "18.90024264595922 19.9\n",
      "18.756956344053016 19.0\n",
      "18.87319456471548 19.1\n",
      "16.274314499400568 19.1\n",
      "16.860368551784784 20.1\n",
      "18.905513452153066 19.9\n",
      "19.159400290583726 19.6\n",
      "19.088344223490125 23.2\n",
      "18.707338437053533 29.8\n",
      "18.021625637306624 13.8\n",
      "18.411297912471653 13.3\n",
      "18.654718723448276 16.7\n",
      "16.27544379772483 12.0\n",
      "17.398147681809192 14.6\n",
      "16.43708559566508 21.4\n",
      "18.740917480083343 23.0\n",
      "18.768064021268525 23.7\n",
      "18.762678304990917 25.0\n",
      "19.44533307692713 21.8\n",
      "19.355943265748163 20.6\n",
      "19.05241667083382 21.2\n",
      "18.579448598357 19.1\n",
      "18.780084107100933 20.6\n",
      "15.347787075189544 15.2\n",
      "15.340167856904728 7.0\n",
      "15.334521995062794 8.1\n",
      "15.35836164083122 13.6\n",
      "15.357053882048405 20.1\n",
      "23.73185557622551 21.8\n",
      "23.70695191166247 24.5\n",
      "23.730524380905372 23.1\n",
      "23.704601226968627 19.7\n",
      "23.70957446018929 18.3\n",
      "23.716431991011 21.2\n",
      "23.730796244738357 17.5\n",
      "23.719886536612915 16.8\n",
      "22.77320772666362 22.4\n",
      "22.77727630954349 20.6\n",
      "22.773645989911625 23.9\n",
      "22.76220192873514 22.0\n",
      "22.776774767644703 11.9\n"
     ]
    }
   ],
   "source": [
    "for i in range(len(y_pred_test)):\n",
    "    print (y_pred_test[i],Y_test[i])"
   ]
  },
  {
   "cell_type": "code",
   "execution_count": 28,
   "id": "8a3353be",
   "metadata": {},
   "outputs": [],
   "source": [
    "score = r2_score(Y_test , y_pred_test)"
   ]
  },
  {
   "cell_type": "code",
   "execution_count": 29,
   "id": "3ff240f6",
   "metadata": {},
   "outputs": [
    {
     "data": {
      "text/plain": [
       "0.14706168385811536"
      ]
     },
     "execution_count": 29,
     "metadata": {},
     "output_type": "execute_result"
    }
   ],
   "source": [
    "score"
   ]
  },
  {
   "cell_type": "code",
   "execution_count": 30,
   "id": "4c8b6fbc",
   "metadata": {},
   "outputs": [
    {
     "name": "stdout",
     "output_type": "stream",
     "text": [
      "MAE distance  3.795995064002779\n",
      "MSE distance 21.8435617770258\n",
      "RMSE distance 4.673709637646074\n"
     ]
    }
   ],
   "source": [
    "print (\"MAE distance \" , metrics.mean_absolute_error(Y_test,y_pred_test))\n",
    "print (\"MSE distance\" , metrics.mean_squared_error(Y_test,y_pred_test))\n",
    "print(\"RMSE distance\" , np.sqrt(metrics.mean_squared_error(Y_test,y_pred_test)))"
   ]
  },
  {
   "cell_type": "code",
   "execution_count": null,
   "id": "4a3a6b45",
   "metadata": {},
   "outputs": [],
   "source": []
  }
 ],
 "metadata": {
  "kernelspec": {
   "display_name": "Python 3 (ipykernel)",
   "language": "python",
   "name": "python3"
  },
  "language_info": {
   "codemirror_mode": {
    "name": "ipython",
    "version": 3
   },
   "file_extension": ".py",
   "mimetype": "text/x-python",
   "name": "python",
   "nbconvert_exporter": "python",
   "pygments_lexer": "ipython3",
   "version": "3.10.2"
  }
 },
 "nbformat": 4,
 "nbformat_minor": 5
}
